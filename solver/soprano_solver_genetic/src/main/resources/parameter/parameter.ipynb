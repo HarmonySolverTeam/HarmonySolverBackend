{
 "cells": [
  {
   "cell_type": "code",
   "execution_count": 47,
   "id": "25048f13",
   "metadata": {},
   "outputs": [],
   "source": [
    "class TestResult:\n",
    "    def __init__(self, epochs, populationSize, crossoverProbability, mutatorWeight, survivorsFraction, fitness):\n",
    "        self.epochs = float(epochs)\n",
    "        self.populationSize = float(populationSize)\n",
    "        self.crossoverProbability = float(crossoverProbability)\n",
    "        self.mutatorWeight = float(mutatorWeight)\n",
    "        self.survivorsFraction = float(survivorsFraction)\n",
    "        self.fitness = float(fitness)\n",
    "        \n",
    "    def __repr__(self):\n",
    "        return f\"\\n[epochs: {self.epochs}\\n size: {self.populationSize}\\n crossover: {self.crossoverProbability}\\n mutator: {self.mutatorWeight}\\n survivors: {self.survivorsFraction}\\n fitness {self.fitness}]\""
   ]
  },
  {
   "cell_type": "code",
   "execution_count": 48,
   "id": "7a155bcf",
   "metadata": {},
   "outputs": [],
   "source": [
    "results = []"
   ]
  },
  {
   "cell_type": "code",
   "execution_count": 49,
   "id": "dee7dab9",
   "metadata": {},
   "outputs": [],
   "source": [
    "import csv\n",
    "with open('test.csv', newline='') as csvfile:\n",
    "    reader = csv.reader(csvfile)\n",
    "    skippedFirst = False\n",
    "    for row in reader:\n",
    "        if not skippedFirst:\n",
    "            skippedFirst = True\n",
    "        else:\n",
    "            results.append(TestResult(row[0], row[1], row[2], row[3], row[4], row[5]))"
   ]
  },
  {
   "cell_type": "code",
   "execution_count": 50,
   "id": "927873bc",
   "metadata": {},
   "outputs": [],
   "source": [
    "def sortByFitness(r):\n",
    "    return r.fitness"
   ]
  },
  {
   "cell_type": "code",
   "execution_count": 51,
   "id": "00b55c47",
   "metadata": {},
   "outputs": [],
   "source": [
    "results.sort(reverse=False, key=sortByFitness)"
   ]
  },
  {
   "cell_type": "code",
   "execution_count": 76,
   "id": "1c768ebb",
   "metadata": {},
   "outputs": [],
   "source": [
    "def group_and_sort_avg(fun):\n",
    "    m = {}\n",
    "    for r in results:\n",
    "        field = fun[1](r)\n",
    "        if not field in m:\n",
    "            m[field] = [r]\n",
    "        else:\n",
    "            m[field].append(r)\n",
    "    \n",
    "    s = {}\n",
    "    for key in m:\n",
    "        summed = 0\n",
    "        for r in m[key]:\n",
    "            summed += r.fitness\n",
    "        s[key] = summed / len(m[key])\n",
    "    print(f[0])\n",
    "    print(s)"
   ]
  },
  {
   "cell_type": "code",
   "execution_count": 80,
   "id": "e431653c",
   "metadata": {},
   "outputs": [
    {
     "name": "stdout",
     "output_type": "stream",
     "text": [
      "populationSize\n",
      "{2000.0: 4236.4473684210525, 1000.0: 4771.217391304348, 500.0: 5289.086666666667, 200.0: 6213.893333333333}\n",
      "\n",
      "\n",
      "mutatorWeight\n",
      "{0.5: 3561.8645833333335, 0.75: 4380.752688172043, 1.25: 6058.311827956989, 1.0: 5321.387096774193, 1.5: 7297.935483870968}\n",
      "\n",
      "\n",
      "survivorsFraction\n",
      "{0.5: 5118.348387096774, 0.3: 5072.647435897436, 0.1: 5743.261146496815}\n",
      "\n",
      "\n",
      "crossoverProbability\n",
      "{0.2: 5135.847826086957, 0.5: 5449.377777777778, 0.4: 5365.544444444445, 0.1: 5178.142857142857, 0.3: 5459.593406593406}\n",
      "\n",
      "\n",
      "epochs\n",
      "{500.0: 5333.5647840531565, 1000.0: 5275.245508982036}\n",
      "\n",
      "\n"
     ]
    }
   ],
   "source": [
    "funs = [\n",
    "        (\"populationSize\", lambda x: x.populationSize), \n",
    "        (\"mutatorWeight\", lambda x: x.mutatorWeight),\n",
    "        (\"survivorsFraction\", lambda x: x.survivorsFraction),\n",
    "        (\"crossoverProbability\", lambda x: x.crossoverProbability),\n",
    "        (\"epochs\", lambda x: x.epochs),\n",
    "       ]\n",
    "\n",
    "for f in funs:\n",
    "    group_and_sort_avg(f)\n",
    "    print(\"\\n\")"
   ]
  },
  {
   "cell_type": "code",
   "execution_count": 81,
   "id": "6f0c2189",
   "metadata": {},
   "outputs": [],
   "source": [
    "### size: 2000, mutatorWeight: 0.5, survivors: 0.3, crossover: 0.2"
   ]
  }
 ],
 "metadata": {
  "kernelspec": {
   "display_name": "Python 3 (ipykernel)",
   "language": "python",
   "name": "python3"
  },
  "language_info": {
   "codemirror_mode": {
    "name": "ipython",
    "version": 3
   },
   "file_extension": ".py",
   "mimetype": "text/x-python",
   "name": "python",
   "nbconvert_exporter": "python",
   "pygments_lexer": "ipython3",
   "version": "3.8.12"
  }
 },
 "nbformat": 4,
 "nbformat_minor": 5
}
